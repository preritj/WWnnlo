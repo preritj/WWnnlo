{
 "cells": [
  {
   "cell_type": "code",
   "execution_count": 8,
   "metadata": {
    "collapsed": true
   },
   "outputs": [],
   "source": [
    "from sympy import *\n",
    "init_printing(use_latex='mathjax')\n",
    "R=Rational"
   ]
  },
  {
   "cell_type": "code",
   "execution_count": 112,
   "metadata": {
    "collapsed": false
   },
   "outputs": [],
   "source": [
    "# Symbols\n",
    "zeta3, zeta5 = symbols('zeta_3 zeta_5')\n",
    "CA, CF, TF, Nf = symbols('C_A C_F T_F n_f')\n",
    "d1, d2, d3 = symbols('d_1 d_2 d_3')\n",
    "b0, b1, b2 = symbols('beta_0 beta_1 beta_2')\n",
    "g0, g1, g2 = symbols('gamma_0 gamma_1 gamma_2')\n",
    "G0, G1, G2 = symbols('Gamma_0 Gamma_1 Gamma_2')\n",
    "Pqq1, Pqq2 = symbols('{P^(1)_qq} {P^(2)_qq}')\n",
    "Pqg1, Pqg2 = symbols('{P^(1)_qg} {P^(2)_qg}')\n",
    "Pgq1, Pgq2 = symbols('{P^(1)_gq} {P^(2)_gq}')\n",
    "Pgg1, Pgg2 = symbols('{P^(1)_gg} {P^(2)_gg}')\n",
    "Rqq1, Rqq2 = symbols('{R^(1)_qq} {R^(2)_qq}')\n",
    "Rqg1, Rqg2 = symbols('{R^(1)_qg} {R^(2)_qg}')\n",
    "Iqq1, Iqg1 = symbols('{I^(1)_qq} {I^(1)_qg}')\n",
    "PgQ1, PgQ2 = symbols('{P^(1)_gQ} {P^(2)_gQ}') \n",
    "PqQ2, RqQ2 = symbols('{P^(2)_qQ} {R^(2)_qQ}')\n",
    "J1, J2 = symbols('J_1 J_2')\n",
    "LT = symbols('L_\\perp')\n",
    "Lt = symbols('(L_\\perp/2)')\n",
    "r = symbols('R')\n",
    "cLA, c0A, c2A, c4A, c6A = symbols('c^A_L c^A_0 c^A_2 c^A_4 c^A_6')\n",
    "cLf, c0f, c2f, c4f, c6f = symbols('c^f_L c^f_0 c^f_2 c^f_4 c^f_6')\n",
    "fF, d2F = symbols('{f_F}(R) d^F_2')"
   ]
  },
  {
   "cell_type": "code",
   "execution_count": 57,
   "metadata": {
    "collapsed": false
   },
   "outputs": [
    {
     "data": {
      "text/latex": [
       "$$\\left \\{ C_{A} : 3, \\quad C_{F} : \\frac{4}{3}, \\quad T_{F} : \\frac{1}{2}, \\quad \\zeta_{3} : \\zeta\\left(3\\right), \\quad \\zeta_{5} : \\zeta\\left(5\\right)\\right \\}$$"
      ],
      "text/plain": [
       "{C_A: 3, C_F: 4/3, T_F: 1/2, ζ₃: ζ(3), ζ₅: ζ(5)}"
      ]
     },
     "execution_count": 57,
     "metadata": {},
     "output_type": "execute_result"
    }
   ],
   "source": [
    "# Create dictionary for anomalous dimensions\n",
    "Constants={}\n",
    "Constants[CA] = 3\n",
    "Constants[CF] = R(4,3)\n",
    "Constants[TF] = R(1,2)\n",
    "Constants[zeta3] = zeta(3,1)\n",
    "Constants[zeta5] = zeta(5,1)\n",
    "Constants"
   ]
  },
  {
   "cell_type": "code",
   "execution_count": 78,
   "metadata": {
    "collapsed": false
   },
   "outputs": [
    {
     "data": {
      "text/latex": [
       "$$\\left \\{ \\Gamma_{0} : 4 C_{F}, \\quad \\Gamma_{1} : 4 C_{F} \\left(C_{A} \\left(- \\frac{\\pi^{2}}{3} + \\frac{67}{9}\\right) - \\frac{20 T_{F}}{9} n_{f}\\right), \\quad \\Gamma_{2} : 4 C_{F} \\left(C_{A}^{2} \\left(\\frac{22 \\zeta_{3}}{3} - \\frac{134 \\pi^{2}}{27} + \\frac{11 \\pi^{4}}{45} + \\frac{245}{6}\\right) + C_{A} T_{F} n_{f} \\left(- \\frac{56 \\zeta_{3}}{3} - \\frac{418}{27} + \\frac{40 \\pi^{2}}{27}\\right) + C_{F} T_{F} n_{f} \\left(16 \\zeta_{3} - \\frac{55}{3}\\right) - \\frac{16 T_{F}^{2}}{27} n_{f}^{2}\\right), \\quad \\beta_{0} : \\frac{11 C_{A}}{3} - \\frac{4 T_{F}}{3} n_{f}, \\quad \\beta_{1} : \\frac{34 C_{A}^{2}}{3} - \\frac{20 C_{A}}{3} T_{F} n_{f} - 4 C_{F} T_{F} n_{f}, \\quad \\beta_{2} : \\frac{2857 C_{A}^{3}}{54} + T_{F}^{2} n_{f}^{2} \\left(\\frac{158 C_{A}}{27} + \\frac{44 C_{F}}{9}\\right) + T_{F} n_{f} \\left(- \\frac{1415 C_{A}^{2}}{27} - \\frac{205 C_{A}}{9} C_{F} + 2 C_{F}^{2}\\right), \\quad d_{1} : 0, \\quad d_{2} : C_{F} \\left(C_{A} \\left(- 28 \\zeta_{3} + \\frac{808}{27}\\right) - \\frac{224 T_{F}}{27} n_{f}\\right), \\quad \\gamma_{0} : - 3 C_{F}, \\quad \\gamma_{1} : C_{A} C_{F} \\left(26 \\zeta_{3} - \\frac{11 \\pi^{2}}{6} - \\frac{961}{54}\\right) + C_{F}^{2} \\left(- 24 \\zeta_{3} - \\frac{3}{2} + 2 \\pi^{2}\\right) + C_{F} T_{F} n_{f} \\left(\\frac{130}{27} + \\frac{2 \\pi^{2}}{3}\\right), \\quad \\gamma_{2} : C_{A}^{2} C_{F} \\left(- \\frac{44 \\zeta_{3}}{9} \\pi^{2} + \\frac{3526 \\zeta_{3}}{9} - 136 \\zeta_{5} - \\frac{7163 \\pi^{2}}{486} - \\frac{83 \\pi^{4}}{90} - \\frac{139345}{2916}\\right) + C_{A} C_{F}^{2} \\left(- \\frac{844 \\zeta_{3}}{3} - \\frac{8 \\zeta_{3}}{3} \\pi^{2} - 120 \\zeta_{5} - \\frac{151}{4} + \\frac{247 \\pi^{4}}{135} + \\frac{205 \\pi^{2}}{9}\\right) + C_{A} C_{F} T_{F} n_{f} \\left(- \\frac{1928 \\zeta_{3}}{27} - \\frac{17318}{729} + \\frac{22 \\pi^{4}}{45} + \\frac{2594 \\pi^{2}}{243}\\right) + C_{F}^{3} \\left(- 68 \\zeta_{3} + \\frac{16 \\zeta_{3}}{3} \\pi^{2} + 240 \\zeta_{5} - \\frac{8 \\pi^{4}}{5} - 3 \\pi^{2} - \\frac{29}{2}\\right) + C_{F}^{2} T_{F} n_{f} \\left(\\frac{512 \\zeta_{3}}{9} - \\frac{28 \\pi^{4}}{27} - \\frac{26 \\pi^{2}}{9} + \\frac{2953}{27}\\right) + C_{F} T_{F}^{2} n_{f}^{2} \\left(- \\frac{32 \\zeta_{3}}{27} - \\frac{40 \\pi^{2}}{27} + \\frac{9668}{729}\\right)\\right \\}$$"
      ],
      "text/plain": [
       "⎧                     ⎛    ⎛   2     ⎞             ⎞            ⎛     ⎛       \n",
       "⎪                     ⎜    ⎜  π    67⎟   20⋅T_F⋅n_f⎟            ⎜   2 ⎜22⋅ζ₃  \n",
       "⎨Γ₀: 4⋅C_F, Γ₁: 4⋅C_F⋅⎜C_A⋅⎜- ── + ──⎟ - ──────────⎟, Γ₂: 4⋅C_F⋅⎜C_A ⋅⎜───── -\n",
       "⎪                     ⎝    ⎝  3    9 ⎠       9     ⎠            ⎝     ⎝  3    \n",
       "⎩                                                                             \n",
       "\n",
       "      2       4      ⎞               ⎛                    2⎞                  \n",
       " 134⋅π    11⋅π    245⎟               ⎜  56⋅ζ₃   418   40⋅π ⎟                  \n",
       " ────── + ───── + ───⎟ + C_A⋅T_F⋅n_f⋅⎜- ───── - ─── + ─────⎟ + C_F⋅T_F⋅n_f⋅(16\n",
       "   27       45     6 ⎠               ⎝    3      27     27 ⎠                  \n",
       "                                                                              \n",
       "\n",
       "                    2    2⎞                                    2              \n",
       "              16⋅T_F ⋅n_f ⎟      11⋅C_A   4⋅T_F⋅n_f      34⋅C_A    20⋅C_A⋅T_F⋅\n",
       "⋅ζ₃ - 55/3) - ────────────⎟, β₀: ────── - ─────────, β₁: ─────── - ───────────\n",
       "                   27     ⎠        3          3             3            3    \n",
       "                                                                              \n",
       "\n",
       "                                 3                                          ⎛ \n",
       "n_f                      2857⋅C_A       2    2 ⎛158⋅C_A   44⋅C_F⎞           ⎜ \n",
       "─── - 4⋅C_F⋅T_F⋅n_f, β₂: ───────── + T_F ⋅n_f ⋅⎜─────── + ──────⎟ + T_F⋅n_f⋅⎜-\n",
       "                             54                ⎝   27       9   ⎠           ⎝ \n",
       "                                                                              \n",
       "\n",
       "         2                       ⎞                                            \n",
       " 1415⋅C_A    205⋅C_A⋅C_F        2⎟                 ⎛    ⎛         808⎞   224⋅T\n",
       " ───────── - ─────────── + 2⋅C_F ⎟, d₁: 0, d₂: C_F⋅⎜C_A⋅⎜-28⋅ζ₃ + ───⎟ - ─────\n",
       "     27           9              ⎠                 ⎝    ⎝          27⎠        \n",
       "                                                                              \n",
       "\n",
       "                                 ⎛            2      ⎞                        \n",
       "_F⋅n_f⎞                          ⎜        11⋅π    961⎟      2 ⎛         3     \n",
       "──────⎟, γ₀: -3⋅C_F, γ₁: C_A⋅C_F⋅⎜26⋅ζ₃ - ───── - ───⎟ + C_F ⋅⎜-24⋅ζ₃ - ─ + 2⋅\n",
       "27    ⎠                          ⎝          6      54⎠        ⎝         2     \n",
       "                                                                              \n",
       "\n",
       "                  ⎛         2⎞               ⎛      2                         \n",
       " 2⎞               ⎜130   2⋅π ⎟         2     ⎜  44⋅π ⋅ζ₃   3526⋅ζ₃            \n",
       "π ⎟ + C_F⋅T_F⋅n_f⋅⎜─── + ────⎟, γ₂: C_A ⋅C_F⋅⎜- ──────── + ─────── - 136⋅ζ₅ - \n",
       "  ⎠               ⎝ 27    3  ⎠               ⎝     9          9               \n",
       "                                                                              \n",
       "\n",
       "      2       4         ⎞            ⎛              2                         \n",
       "7163⋅π    83⋅π    139345⎟          2 ⎜  844⋅ζ₃   8⋅π ⋅ζ₃            151   247⋅\n",
       "─────── - ───── - ──────⎟ + C_A⋅C_F ⋅⎜- ────── - ─────── - 120⋅ζ₅ - ─── + ────\n",
       "  486       90     2916 ⎠            ⎝    3         3                4     135\n",
       "                                                                              \n",
       "\n",
       " 4        2⎞                   ⎛                        4         2⎞        ⎛ \n",
       "π    205⋅π ⎟                   ⎜  1928⋅ζ₃   17318   22⋅π    2594⋅π ⎟      3 ⎜ \n",
       "── + ──────⎟ + C_A⋅C_F⋅T_F⋅n_f⋅⎜- ─────── - ───── + ───── + ───────⎟ + C_F ⋅⎜-\n",
       "       9   ⎠                   ⎝     27      729      45      243  ⎠        ⎝ \n",
       "                                                                              \n",
       "\n",
       "            2                  4            ⎞                ⎛             4  \n",
       "        16⋅π ⋅ζ₃            8⋅π       2   29⎟      2         ⎜512⋅ζ₃   28⋅π   \n",
       "68⋅ζ₃ + ──────── + 240⋅ζ₅ - ──── - 3⋅π  - ──⎟ + C_F ⋅T_F⋅n_f⋅⎜────── - ───── -\n",
       "           3                 5            2 ⎠                ⎝  9        27   \n",
       "                                                                              \n",
       "\n",
       "     2       ⎞                 ⎛              2       ⎞⎫\n",
       " 26⋅π    2953⎟          2    2 ⎜  32⋅ζ₃   40⋅π    9668⎟⎪\n",
       " ───── + ────⎟ + C_F⋅T_F ⋅n_f ⋅⎜- ───── - ───── + ────⎟⎬\n",
       "   9      27 ⎠                 ⎝    27      27    729 ⎠⎪\n",
       "                                                       ⎭"
      ]
     },
     "execution_count": 78,
     "metadata": {},
     "output_type": "execute_result"
    }
   ],
   "source": [
    "# Create dictionary for anomalous dimensions\n",
    "AnomDim={}\n",
    "AnomDim[G0] = 4*CF\n",
    "AnomDim[G1] = AnomDim[G0]*((R(67,9) - pi*pi/3)*CA - TF*Nf*R(20,9))\n",
    "AnomDim[G2] = AnomDim[G0]*(CA**2*(R(245,6)-R(134,27)*pi**2+R(11,45)*pi**4+R(22,3)*zeta3)\n",
    "                           +CA*TF*Nf*(-R(418,27)+R(40,27)*pi**2-R(56,3)*zeta3)\n",
    "                          +CF*TF*Nf*(-R(55,3)+16*zeta3)-R(16,27)*TF**2*Nf**2)\n",
    "AnomDim[g0] = -3*CF\n",
    "AnomDim[g1] = (CF**2*(-R(3,2)+2*pi**2-24*zeta3) + CF*CA*(-R(961,54)-R(11,6)*pi**2+26*zeta3)\n",
    "              + CF*TF*Nf*(R(130,27)+R(2,3)*pi**2))\n",
    "AnomDim[g2] = (CF**3*(-R(29,2)-3*pi**2-R(8,5)*pi**4-68*zeta3+R(16,3)*pi**2*zeta3+ 240*zeta5)\n",
    "              +CF**2*CA*(-R(151,4)+R(205,9)*pi**2+R(247,135)*pi**4-R(844,3)*zeta3-R(8,3)*pi**2*zeta3-120*zeta5)\n",
    "              +CF*CA**2*(-R(139345,2916)-R(7163,486)*pi**2-R(83,90)*pi**4+R(3526,9)*zeta3-R(44,9)*pi**2*zeta3-136*zeta5)\n",
    "              +CF**2*TF*Nf*(R(2953,27)-R(26,9)*pi**2-R(28,27)*pi**4+R(512,9)*zeta3)\n",
    "              +CF*CA*TF*Nf*(-R(17318,729)+R(2594,243)*pi**2+R(22,45)*pi**4-R(1928,27)*zeta3)\n",
    "              +CF*TF**2*Nf**2*(R(9668,729)-R(40,27)*pi**2-R(32,27)*zeta3))\n",
    "AnomDim[b0] = R(11,3)*CA - R(4,3)*TF*Nf\n",
    "AnomDim[b1] = R(34,3)*CA**2 - R(20,3)*CA*TF*Nf - 4*CF*TF*Nf\n",
    "AnomDim[b2] = (R(2857,54)*CA**3 + (2*CF**2-R(205,9)*CF*CA-R(1415,27)*CA**2)*TF*Nf\n",
    "              + (R(44,9)*CF + R(158,27)*CA)*TF**2*Nf**2)\n",
    "AnomDim"
   ]
  },
  {
   "cell_type": "code",
   "execution_count": 76,
   "metadata": {
    "collapsed": false
   },
   "outputs": [
    {
     "data": {
      "text/latex": [
       "$$\\left \\{ \\Gamma_{0} : 5.33333333333333, \\quad \\Gamma_{1} : 42.7695172682642, \\quad \\Gamma_{2} : 429.50657475221, \\quad \\beta_{0} : 8.33333333333333, \\quad \\beta_{1} : 51.3333333333333, \\quad \\beta_{2} : 406.351851851852, \\quad d_{1} : 0, \\quad \\gamma_{0} : -4.0, \\quad \\gamma_{1} : -7.02539775406928, \\quad \\gamma_{2} : -245.982867225846\\right \\}$$"
      ],
      "text/plain": [
       "{Γ₀: 5.33333333333333, Γ₁: 42.7695172682642, Γ₂: 429.50657475221, β₀: 8.333333\n",
       "33333333, β₁: 51.3333333333333, β₂: 406.351851851852, d₁: 0, γ₀: -4.0, γ₁: -7.\n",
       "02539775406928, γ₂: -245.982867225846}"
      ]
     },
     "execution_count": 76,
     "metadata": {},
     "output_type": "execute_result"
    }
   ],
   "source": [
    "# Numerical values for Nf=4\n",
    "NAnomDim = {}\n",
    "for key in AnomDim:\n",
    "    NAnomDim[key] = AnomDim[key].subs(Constants).subs({Nf : 4}).evalf()\n",
    "NAnomDim"
   ]
  },
  {
   "cell_type": "code",
   "execution_count": 77,
   "metadata": {
    "collapsed": false
   },
   "outputs": [
    {
     "data": {
      "text/latex": [
       "$$\\left \\{ \\Gamma_{0} : 5.33333333333333, \\quad \\Gamma_{1} : 36.8435913423382, \\quad \\Gamma_{2} : 239.208033198959, \\quad \\beta_{0} : 7.66666666666667, \\quad \\beta_{1} : 38.6666666666667, \\quad \\beta_{2} : 180.907407407407, \\quad d_{1} : 0, \\quad \\gamma_{0} : -4.0, \\quad \\gamma_{1} : 0.5709696340692, \\quad \\gamma_{2} : -124.693783552723\\right \\}$$"
      ],
      "text/plain": [
       "{Γ₀: 5.33333333333333, Γ₁: 36.8435913423382, Γ₂: 239.208033198959, β₀: 7.66666\n",
       "666666667, β₁: 38.6666666666667, β₂: 180.907407407407, d₁: 0, γ₀: -4.0, γ₁: 0.\n",
       "5709696340692, γ₂: -124.693783552723}"
      ]
     },
     "execution_count": 77,
     "metadata": {},
     "output_type": "execute_result"
    }
   ],
   "source": [
    "# Numerical values for Nf=5\n",
    "NAnomDim = {}\n",
    "for key in AnomDim:\n",
    "    NAnomDim[key] = AnomDim[key].subs(Constants).subs({Nf : 5}).evalf()\n",
    "NAnomDim"
   ]
  },
  {
   "cell_type": "code",
   "execution_count": 127,
   "metadata": {
    "collapsed": false
   },
   "outputs": [
    {
     "data": {
      "text/latex": [
       "$$\\left \\{ c^{A}_{0} : \\frac{\\zeta_{3}}{2} - \\frac{805}{216} + \\frac{11}{6} \\log^{2}{\\left (2 \\right )} + \\frac{35}{18} \\log{\\left (2 \\right )} + \\frac{11 \\pi^{2}}{72}, \\quad c^{A}_{2} : \\frac{1429}{172800} + \\frac{13}{180} \\log{\\left (2 \\right )} + \\frac{\\pi^{2}}{48}, \\quad c^{A}_{4} : - \\frac{9383279}{406425600} - \\frac{\\pi^{2}}{3456} + \\frac{587}{120960} \\log{\\left (2 \\right )}, \\quad c^{A}_{6} : - \\frac{23}{67200} \\log{\\left (2 \\right )} + \\frac{74801417}{97542144000}, \\quad c^{A}_{L} : - \\frac{\\pi^{2}}{6} - \\frac{11}{6} \\log{\\left (2 \\right )} + \\frac{131}{72}, \\quad c^{f}_{0} : - \\frac{8}{9} \\log{\\left (2 \\right )} - \\frac{\\pi^{2}}{18} - \\frac{2}{3} \\log^{2}{\\left (2 \\right )} + \\frac{157}{108}, \\quad c^{f}_{2} : - \\frac{7}{360} \\log{\\left (2 \\right )} + \\frac{3071}{86400}, \\quad c^{f}_{4} : - \\frac{168401}{101606400} + \\frac{53}{30240} \\log{\\left (2 \\right )}, \\quad c^{f}_{6} : - \\frac{11}{100800} \\log{\\left (2 \\right )} + \\frac{7001023}{48771072000}, \\quad c^{f}_{L} : - \\frac{23}{36} + \\frac{2}{3} \\log{\\left (2 \\right )}, \\quad d^{F}_{2} : C_{F} \\left(C_{A} \\left(- 28 \\zeta_{3} + \\frac{808}{27}\\right) - \\frac{224 T_{F}}{27} n_{f}\\right), \\quad d_{1} : 0, \\quad d_{2} : - 32 C_{F} {f_{F}(R)} + d^{F}_{2}, \\quad {f_{F}(R)} : C_{A} \\left(R^{6} c^{A}_{6} + R^{4} c^{A}_{4} + R^{2} c^{A}_{2} + c^{A}_{0} + c^{A}_{L} \\log{\\left (R \\right )}\\right) + C_{F} \\left(\\frac{R^{4}}{16} - \\frac{\\pi^{2} R^{2}}{12}\\right) + T_{F} n_{f} \\left(R^{6} c^{f}_{6} + R^{4} c^{f}_{4} + R^{2} c^{f}_{2} + c^{f}_{0} + c^{f}_{L} \\log{\\left (R \\right )}\\right)\\right \\}$$"
      ],
      "text/plain": [
       "⎧                         2                      2                            \n",
       "⎪        ζ₃   805   11⋅log (2)   35⋅log(2)   11⋅π            1429    13⋅log(2)\n",
       "⎨c_0__A: ── - ─── + ────────── + ───────── + ─────, c_2__A: ────── + ─────────\n",
       "⎪        2    216       6            18        72           172800      180   \n",
       "⎩                                                                             \n",
       "\n",
       "    2                          2                                              \n",
       "   π              9383279     π     587⋅log(2)            23⋅log(2)     748014\n",
       " + ──, c_4__A: - ───────── - ──── + ──────────, c_6__A: - ───────── + ────────\n",
       "   48            406425600   3456     120960                67200     97542144\n",
       "                                                                              \n",
       "\n",
       "                2                                          2        2         \n",
       "17             π    11⋅log(2)   131            8⋅log(2)   π    2⋅log (2)   157\n",
       "───, c_L__A: - ── - ───────── + ───, c_0__f: - ──────── - ── - ───────── + ───\n",
       "000            6        6        72               9       18       3       108\n",
       "                                                                              \n",
       "\n",
       "                                                                              \n",
       "            7⋅log(2)    3071              168401    53⋅log(2)            11⋅lo\n",
       ", c_2__f: - ──────── + ─────, c_4__f: - ───────── + ─────────, c_6__f: - ─────\n",
       "              360      86400            101606400     30240                100\n",
       "                                                                              \n",
       "\n",
       "                                                                              \n",
       "g(2)     7001023              23   2⋅log(2)              ⎛    ⎛         808⎞  \n",
       "──── + ───────────, c_L__f: - ── + ────────, d_2__F: C_F⋅⎜C_A⋅⎜-28⋅ζ₃ + ───⎟ -\n",
       "800    48771072000            36      3                  ⎝    ⎝          27⎠  \n",
       "                                                                              \n",
       "\n",
       "                                                                              \n",
       " 224⋅T_F⋅n_f⎞                                                      ⎛ 6        \n",
       " ───────────⎟, d₁: 0, d₂: -32⋅C_F⋅{f_F}(R) + d_2__F, {f_F}(R): C_A⋅⎝R ⋅c_6__A \n",
       "      27    ⎠                                                                 \n",
       "                                                                              \n",
       "\n",
       "                                                        ⎛ 4    2  2⎞          \n",
       "   4           2                                ⎞       ⎜R    π ⋅R ⎟          \n",
       "+ R ⋅c_4__A + R ⋅c_2__A + c_0__A + c_L__A⋅log(R)⎠ + C_F⋅⎜── - ─────⎟ + T_F⋅n_f\n",
       "                                                        ⎝16     12 ⎠          \n",
       "                                                                              \n",
       "\n",
       "                                                             ⎫\n",
       " ⎛ 6           4           2                                ⎞⎪\n",
       "⋅⎝R ⋅c_6__f + R ⋅c_4__f + R ⋅c_2__f + c_0__f + c_L__f⋅log(R)⎠⎬\n",
       "                                                             ⎪\n",
       "                                                             ⎭"
      ]
     },
     "execution_count": 127,
     "metadata": {},
     "output_type": "execute_result"
    }
   ],
   "source": [
    "# Create dictionary for jet-veto anomalous dimensions\n",
    "JVAnomDim={}\n",
    "JVAnomDim[cLf] = -R(23,36)+R(2,3)*log(2)\n",
    "JVAnomDim[c0f] = R(157,108) - pi*pi/18 - R(8,9)*log(2)-R(2,3)*log(2)**2\n",
    "JVAnomDim[c2f] = R(3071,86400)-R(7,360)*log(2)\n",
    "JVAnomDim[c4f] = -R(168401,101606400)+R(53,30240)*log(2)\n",
    "JVAnomDim[c6f] = R(7001023,48771072000)-R(11,100800)*log(2)\n",
    "JVAnomDim[cLA] = R(131,72)-pi*pi/6-R(11,6)*log(2)\n",
    "JVAnomDim[c0A] = -R(805,216)+R(11,72)*pi**2+R(35,18)*log(2)+R(11,6)*log(2)**2+zeta3/2\n",
    "JVAnomDim[c2A] = R(1429,172800)+pi*pi/48+R(13,180)*log(2)\n",
    "JVAnomDim[c4A] = -R(9383279,406425600) -pi*pi/3456+R(587,120960)*log(2)\n",
    "JVAnomDim[c6A] = R(74801417,97542144000) -R(23,67200)*log(2)\n",
    "JVAnomDim[d2F] = CF*((R(808,27)-28*zeta3)*CA - R(224,27)*TF*Nf)\n",
    "JVAnomDim[fF] = (CA*(cLA*log(r)+c0A+c2A*r**2+c4A*r**4+c6A*r**6) + CF*(-pi**2*r**2/12+r**4/16)\n",
    "                + TF*Nf*(cLf*log(r)+c0f+c2f*r**2+c4f*r**4++c6f*r**6))\n",
    "JVAnomDim[d1] = 0*CF\n",
    "JVAnomDim[d2] = d2F -32*CF*fF\n",
    "JVAnomDim"
   ]
  },
  {
   "cell_type": "code",
   "execution_count": 131,
   "metadata": {
    "collapsed": false
   },
   "outputs": [
    {
     "data": {
      "text/latex": [
       "$$\\left \\{ c^{A}_{0} : 0.610649537610971, \\quad c^{A}_{2} : 0.263947063989061, \\quad c^{A}_{4} : -0.0225793759802683, \\quad c^{A}_{6} : 0.000529624672827506, \\quad c^{A}_{L} : -1.09625945343035, \\quad c^{f}_{0} : -0.0310404883555686, \\quad c^{f}_{2} : 0.0220661196372603, \\quad c^{f}_{4} : -0.000442544466548219, \\quad c^{f}_{6} : 6.79076184697486 \\cdot 10^{-5}, \\quad c^{f}_{L} : -0.176790768515592, \\quad d^{F}_{2} : -37.0501262402943, \\quad d_{1} : 0, \\quad d_{2} : - 0.0735867415646726 R^{6} - 0.627631635602436 R^{4} + 11.121035946259 R^{2} + 155.407355619082 \\log{\\left (R \\right )} - 112.564478714823, \\quad {f_{F}(R)} : 0.00172468925542201 R^{6} + 0.0147101164594321 R^{4} - 0.260649279990446 R^{2} - 3.64235989732223 \\log{\\left (R \\right )} + 1.76986763612177\\right \\}$$"
      ],
      "text/plain": [
       "⎧                                                                             \n",
       "⎨c_0__A: 0.610649537610971, c_2__A: 0.263947063989061, c_4__A: -0.022579375980\n",
       "⎩                                                                             \n",
       "\n",
       "                                                                              \n",
       "2683, c_6__A: 0.000529624672827506, c_L__A: -1.09625945343035, c_0__f: -0.0310\n",
       "                                                                              \n",
       "\n",
       "                                                                              \n",
       "404883555686, c_2__f: 0.0220661196372603, c_4__f: -0.000442544466548219, c_6__\n",
       "                                                                              \n",
       "\n",
       "                                                                              \n",
       "f: 6.79076184697486e-5, c_L__f: -0.176790768515592, d_2__F: -37.0501262402943,\n",
       "                                                                              \n",
       "\n",
       "                                     6                         4              \n",
       " d₁: 0, d₂: - - -0.0735867415646726⋅R  - - -0.627631635602436⋅R  + 11.12103594\n",
       "                                                                              \n",
       "\n",
       "      2                                                                       \n",
       "6259⋅R  + 155.407355619082⋅log(R) - 112.564478714823, {f_F}(R): 0.001724689255\n",
       "                                                                              \n",
       "\n",
       "       6                       4                         2                    \n",
       "42201⋅R  + 0.0147101164594321⋅R  - - -0.260649279990446⋅R  - -3.64235989732223\n",
       "                                                                              \n",
       "\n",
       "                               ⎫\n",
       "⋅(-1)⋅log(R) + 1.76986763612177⎬\n",
       "                               ⎭"
      ]
     },
     "execution_count": 131,
     "metadata": {},
     "output_type": "execute_result"
    }
   ],
   "source": [
    "# Numerical values for Nf=4\n",
    "NJVAnomDim = {}\n",
    "for key in JVAnomDim:\n",
    "    NJVAnomDim[key] = JVAnomDim[key].subs(JVAnomDim).subs(JVAnomDim).subs(Constants).subs({Nf : 4}).evalf()\n",
    "NJVAnomDim"
   ]
  },
  {
   "cell_type": "code",
   "execution_count": 132,
   "metadata": {
    "collapsed": false
   },
   "outputs": [
    {
     "data": {
      "text/latex": [
       "$$\\left \\{ c^{A}_{0} : 0.610649537610971, \\quad c^{A}_{2} : 0.263947063989061, \\quad c^{A}_{4} : -0.0225793759802683, \\quad c^{A}_{6} : 0.000529624672827506, \\quad c^{A}_{L} : -1.09625945343035, \\quad c^{f}_{0} : -0.0310404883555686, \\quad c^{f}_{2} : 0.0220661196372603, \\quad c^{f}_{4} : -0.000442544466548219, \\quad c^{f}_{6} : 6.79076184697486 \\cdot 10^{-5}, \\quad c^{f}_{L} : -0.176790768515592, \\quad d^{F}_{2} : -42.5809904378252, \\quad d_{1} : 0, \\quad d_{2} : - 0.0750354374253606 R^{6} - 0.618190686982741 R^{4} + 10.6502920606641 R^{2} + 159.178892014081 \\log{\\left (R \\right )} - 117.433145827435, \\quad {f_{F}(R)} : 0.00175864306465689 R^{6} + 0.014488844226158 R^{4} - 0.249616220171816 R^{2} - 3.73075528158003 \\log{\\left (R \\right )} + 1.75434739194399\\right \\}$$"
      ],
      "text/plain": [
       "⎧                                                                             \n",
       "⎨c_0__A: 0.610649537610971, c_2__A: 0.263947063989061, c_4__A: -0.022579375980\n",
       "⎩                                                                             \n",
       "\n",
       "                                                                              \n",
       "2683, c_6__A: 0.000529624672827506, c_L__A: -1.09625945343035, c_0__f: -0.0310\n",
       "                                                                              \n",
       "\n",
       "                                                                              \n",
       "404883555686, c_2__f: 0.0220661196372603, c_4__f: -0.000442544466548219, c_6__\n",
       "                                                                              \n",
       "\n",
       "                                                                              \n",
       "f: 6.79076184697486e-5, c_L__f: -0.176790768515592, d_2__F: -42.5809904378252,\n",
       "                                                                              \n",
       "\n",
       "                                     6                         4              \n",
       " d₁: 0, d₂: - - -0.0750354374253606⋅R  - - -0.618190686982741⋅R  + 10.65029206\n",
       "                                                                              \n",
       "\n",
       "       2                                                                      \n",
       "06641⋅R  + 159.178892014081⋅log(R) - 117.433145827435, {f_F}(R): 0.00175864306\n",
       "                                                                              \n",
       "\n",
       "        6                      4                         2                    \n",
       "465689⋅R  + 0.014488844226158⋅R  - - -0.249616220171816⋅R  - -3.73075528158003\n",
       "                                                                              \n",
       "\n",
       "                               ⎫\n",
       "⋅(-1)⋅log(R) + 1.75434739194399⎬\n",
       "                               ⎭"
      ]
     },
     "execution_count": 132,
     "metadata": {},
     "output_type": "execute_result"
    }
   ],
   "source": [
    "# Numerical values for Nf=5\n",
    "NJVAnomDim = {}\n",
    "for key in JVAnomDim:\n",
    "    NJVAnomDim[key] = JVAnomDim[key].subs(JVAnomDim).subs(JVAnomDim).subs(Constants).subs({Nf : 5}).evalf()\n",
    "NJVAnomDim"
   ]
  },
  {
   "cell_type": "code",
   "execution_count": 3,
   "metadata": {
    "collapsed": false,
    "scrolled": false
   },
   "outputs": [
    {
     "data": {
      "text/latex": [
       "$$\\left \\{ J_{1} : \\Gamma_{0} L_{\\perp} + d_{1} + 2 \\gamma_{0}, \\quad J_{2} : \\frac{\\Gamma_{0} \\beta_{0}}{2} L_{\\perp}^{2} + L_{\\perp} \\left(\\Gamma_{1} + \\beta_{0} d_{1}\\right) + d_{2} + 2 \\gamma_{1}, \\quad {I^{(1)}_{qg}} : - \\frac{L_{\\perp} {P^{(1)}_{qg}}}{2} + {R^{(1)}_{qg}}, \\quad {I^{(1)}_{qq}} : - \\frac{\\Gamma_{0} L_{\\perp}^{2}}{4} - \\frac{L_{\\perp} {P^{(1)}_{qq}}}{2} - L_{\\perp} \\left(\\frac{d_{1}}{2} + \\gamma_{0}\\right) + {R^{(1)}_{qq}}\\right \\}$$"
      ],
      "text/plain": [
       "⎧                                          2                                  \n",
       "⎪                                Γ₀⋅L_\\perp ⋅β₀                               \n",
       "⎨J₁: Γ₀⋅L_\\perp + d₁ + 2⋅γ₀, J₂: ────────────── + L_\\perp⋅(Γ₁ + β₀⋅d₁) + d₂ + \n",
       "⎪                                      2                                      \n",
       "⎩                                                                             \n",
       "\n",
       "                                                                              \n",
       "                     L_\\perp⋅{P_qg}__(1)                               Γ₀⋅L_\\p\n",
       "2⋅γ₁, {I_qg}__(1): - ─────────────────── + {R_qg}__(1), {I_qq}__(1): - ───────\n",
       "                              2                                             4 \n",
       "                                                                              \n",
       "\n",
       "   2                                                        ⎫\n",
       "erp    L_\\perp⋅{P_qq}__(1)           ⎛d₁     ⎞              ⎪\n",
       "──── - ─────────────────── - L_\\perp⋅⎜── + γ₀⎟ + {R_qq}__(1)⎬\n",
       "                2                    ⎝2      ⎠              ⎪\n",
       "                                                            ⎭"
      ]
     },
     "execution_count": 3,
     "metadata": {},
     "output_type": "execute_result"
    }
   ],
   "source": [
    "# Create dictionary for substitutions\n",
    "Eqs={}\n",
    "Eqs[G0]    = d1 + 2*g0 + G0*LT\n",
    "Eqs[J2]    = d2 + 2*g1 + (b0*d1 + G1)*LT + b0*G0*LT**2/2\n",
    "Eqs[Iqq1]  = -((d1/2 + g0)*LT + G0*LT**2/4) - Pqq1*LT/2 + Rqq1\n",
    "Eqs[Iqg1]  = -Pqg1*LT/2 + Rqg1\n",
    "Eqs"
   ]
  },
  {
   "cell_type": "code",
   "execution_count": 4,
   "metadata": {
    "collapsed": false
   },
   "outputs": [
    {
     "data": {
      "text/latex": [
       "$$2 \\frac{d}{d L_{\\perp}} \\operatorname{{I^{(2)}_{qq}}}{\\left (L_{\\perp} \\right )}$$"
      ],
      "text/plain": [
       "     d                          \n",
       "2⋅────────({I_qq}__(2)(L_\\perp))\n",
       "  dL_\\perp                      "
      ]
     },
     "execution_count": 4,
     "metadata": {},
     "output_type": "execute_result"
    }
   ],
   "source": [
    "Iqq2 = Function('{I^(2)_qq}')\n",
    "LHS = 2*Iqq2(LT).diff(LT)\n",
    "LHS"
   ]
  },
  {
   "cell_type": "code",
   "execution_count": 5,
   "metadata": {
    "collapsed": false
   },
   "outputs": [
    {
     "data": {
      "text/latex": [
       "$$- J_{2} - {I^{(1)}_{qg}} {P^{(1)}_{gq}} - {I^{(1)}_{qq}} {P^{(1)}_{qq}} - {I^{(1)}_{qq}} \\left(J_{1} - 2 \\beta_{0}\\right) - {P^{(2)}_{qq}}$$"
      ],
      "text/plain": [
       "-J₂ - {I_qg}__(1)⋅{P_gq}__(1) - {I_qq}__(1)⋅{P_qq}__(1) - {I_qq}__(1)⋅(J₁ - 2⋅\n",
       "β₀) - {P_qq}__(2)"
      ]
     },
     "execution_count": 5,
     "metadata": {},
     "output_type": "execute_result"
    }
   ],
   "source": [
    "RHS = - Pqq2-(J1-2*b0)*Iqq1-J2-Iqq1*Pqq1-Iqg1*Pgq1\n",
    "RHS"
   ]
  },
  {
   "cell_type": "code",
   "execution_count": 6,
   "metadata": {
    "collapsed": false
   },
   "outputs": [
    {
     "data": {
      "text/latex": [
       "$$\\left [ \\frac{\\Gamma_{0}^{2}}{2}, \\quad - \\frac{\\Gamma_{0}}{3} \\left(4 \\beta_{0} - 3 d_{1} - 6 \\gamma_{0} - 3 {P^{(1)}_{qq}}\\right), \\quad - \\frac{1}{2} \\left(2 \\Gamma_{0} {R^{(1)}_{qq}} + 2 \\Gamma_{1} + 4 \\beta_{0} d_{1} + 4 \\beta_{0} \\gamma_{0} + 2 \\beta_{0} {P^{(1)}_{qq}} - d_{1}^{2} - 4 d_{1} \\gamma_{0} - 2 d_{1} {P^{(1)}_{qq}} - 4 \\gamma_{0}^{2} - 4 \\gamma_{0} {P^{(1)}_{qq}} - {P^{(1)}_{gq}} {P^{(1)}_{qg}} - {P^{(1)}_{qq}}^{2}\\right), \\quad 2 \\beta_{0} {R^{(1)}_{qq}} - d_{1} {R^{(1)}_{qq}} - d_{2} - 2 \\gamma_{0} {R^{(1)}_{qq}} - 2 \\gamma_{1} - {P^{(1)}_{gq}} {R^{(1)}_{qg}} - {P^{(1)}_{qq}} {R^{(1)}_{qq}} - {P^{(2)}_{qq}}, \\quad {R^{(2)}_{qq}}\\right ]$$"
      ],
      "text/plain": [
       "⎡  2                                              ⎛                           \n",
       "⎢Γ₀   -Γ₀⋅(4⋅β₀ - 3⋅d₁ - 6⋅γ₀ - 3⋅{P_qq}__(1))   -⎝2⋅Γ₀⋅{R_qq}__(1) + 2⋅Γ₁ + 4\n",
       "⎢───, ─────────────────────────────────────────, ─────────────────────────────\n",
       "⎣ 2                       3                                                   \n",
       "\n",
       "                                        2                                    2\n",
       "⋅β₀⋅d₁ + 4⋅β₀⋅γ₀ + 2⋅β₀⋅{P_qq}__(1) - d₁  - 4⋅d₁⋅γ₀ - 2⋅d₁⋅{P_qq}__(1) - 4⋅γ₀ \n",
       "──────────────────────────────────────────────────────────────────────────────\n",
       "                                                       2                      \n",
       "\n",
       "                                                           2⎞                 \n",
       " - 4⋅γ₀⋅{P_qq}__(1) - {P_gq}__(1)⋅{P_qg}__(1) - {P_qq}__(1) ⎠                 \n",
       "──────────────────────────────────────────────────────────────, 2⋅β₀⋅{R_qq}__(\n",
       "                                                                              \n",
       "\n",
       "                                                                              \n",
       "                                                                              \n",
       "1) - d₁⋅{R_qq}__(1) - d₂ - 2⋅γ₀⋅{R_qq}__(1) - 2⋅γ₁ - {P_gq}__(1)⋅{R_qg}__(1) -\n",
       "                                                                              \n",
       "\n",
       "                                                   ⎤\n",
       "                                                   ⎥\n",
       " {P_qq}__(1)⋅{R_qq}__(1) - {P_qq}__(2), {R_qq}__(2)⎥\n",
       "                                                   ⎦"
      ]
     },
     "execution_count": 6,
     "metadata": {},
     "output_type": "execute_result"
    }
   ],
   "source": [
    "sol=dsolve(Eq(LHS, RHS.subs(Eqs)), Iqq2(LT))\n",
    "ics=solve(sol.subs(LT,0), sol.free_symbols)[0] \n",
    "finalsol = (sol.subs(ics).subs(Iqq2(0), Rqq2)).rhs\n",
    "a=Poly(finalsol.subs(LT,2*Lt), Lt)\n",
    "factor(a.coeffs())"
   ]
  },
  {
   "cell_type": "code",
   "execution_count": 7,
   "metadata": {
    "collapsed": false
   },
   "outputs": [
    {
     "data": {
      "text/latex": [
       "$$2 \\frac{d}{d L_{\\perp}} \\operatorname{{I^{(2)}_{qg}}}{\\left (L_{\\perp} \\right )}$$"
      ],
      "text/plain": [
       "     d                          \n",
       "2⋅────────({I_qg}__(2)(L_\\perp))\n",
       "  dL_\\perp                      "
      ]
     },
     "execution_count": 7,
     "metadata": {},
     "output_type": "execute_result"
    }
   ],
   "source": [
    "Iqg2 = Function('{I^(2)_qg}')\n",
    "LHS = 2*Iqg2(LT).diff(LT)\n",
    "LHS"
   ]
  },
  {
   "cell_type": "code",
   "execution_count": 8,
   "metadata": {
    "collapsed": false
   },
   "outputs": [
    {
     "data": {
      "text/latex": [
       "$$- {I^{(1)}_{qg}} {P^{(1)}_{gg}} - {I^{(1)}_{qg}} \\left(J_{1} - 2 \\beta_{0}\\right) - {I^{(1)}_{qq}} {P^{(1)}_{qg}} - {P^{(2)}_{qg}}$$"
      ],
      "text/plain": [
       "-{I_qg}__(1)⋅{P_gg}__(1) - {I_qg}__(1)⋅(J₁ - 2⋅β₀) - {I_qq}__(1)⋅{P_qg}__(1) -\n",
       " {P_qg}__(2)"
      ]
     },
     "execution_count": 8,
     "metadata": {},
     "output_type": "execute_result"
    }
   ],
   "source": [
    "RHS = - Pqg2-(J1-2*b0)*Iqg1-Iqq1*Pqg1-Iqg1*Pgg1\n",
    "RHS"
   ]
  },
  {
   "cell_type": "code",
   "execution_count": 9,
   "metadata": {
    "collapsed": false
   },
   "outputs": [
    {
     "data": {
      "text/latex": [
       "$$\\left [ \\Gamma_{0} {P^{(1)}_{qg}}, \\quad - \\frac{1}{2} \\left(2 \\Gamma_{0} {R^{(1)}_{qg}} + 2 \\beta_{0} {P^{(1)}_{qg}} - 2 d_{1} {P^{(1)}_{qg}} - 4 \\gamma_{0} {P^{(1)}_{qg}} - {P^{(1)}_{gg}} {P^{(1)}_{qg}} - {P^{(1)}_{qg}} {P^{(1)}_{qq}}\\right), \\quad 2 \\beta_{0} {R^{(1)}_{qg}} - d_{1} {R^{(1)}_{qg}} - 2 \\gamma_{0} {R^{(1)}_{qg}} - {P^{(1)}_{gg}} {R^{(1)}_{qg}} - {P^{(1)}_{qg}} {R^{(1)}_{qq}} - {P^{(2)}_{qg}}, \\quad {R^{(2)}_{qg}}\\right ]$$"
      ],
      "text/plain": [
       "⎡                -(2⋅Γ₀⋅{R_qg}__(1) + 2⋅β₀⋅{P_qg}__(1) - 2⋅d₁⋅{P_qg}__(1) - 4⋅\n",
       "⎢Γ₀⋅{P_qg}__(1), ─────────────────────────────────────────────────────────────\n",
       "⎣                                                                             \n",
       "\n",
       "γ₀⋅{P_qg}__(1) - {P_gg}__(1)⋅{P_qg}__(1) - {P_qg}__(1)⋅{P_qq}__(1))           \n",
       "────────────────────────────────────────────────────────────────────, 2⋅β₀⋅{R_\n",
       "   2                                                                          \n",
       "\n",
       "                                                                              \n",
       "qg}__(1) - d₁⋅{R_qg}__(1) - 2⋅γ₀⋅{R_qg}__(1) - {P_gg}__(1)⋅{R_qg}__(1) - {P_qg\n",
       "                                                                              \n",
       "\n",
       "                                             ⎤\n",
       "}__(1)⋅{R_qq}__(1) - {P_qg}__(2), {R_qg}__(2)⎥\n",
       "                                             ⎦"
      ]
     },
     "execution_count": 9,
     "metadata": {},
     "output_type": "execute_result"
    }
   ],
   "source": [
    "sol=dsolve(Eq(LHS, RHS.subs(Eqs)), Iqg2(LT))\n",
    "ics=solve(sol.subs(LT,0), sol.free_symbols)[0] \n",
    "finalsol = (sol.subs(ics).subs(Iqg2(0), Rqg2)).rhs\n",
    "a=Poly(finalsol.subs(LT,2*Lt), Lt)\n",
    "factor(a.coeffs())"
   ]
  },
  {
   "cell_type": "code",
   "execution_count": 10,
   "metadata": {
    "collapsed": false
   },
   "outputs": [
    {
     "data": {
      "text/latex": [
       "$$2 \\frac{d}{d L_{\\perp}} \\operatorname{{I^{(2)}_{qQ}}}{\\left (L_{\\perp} \\right )}$$"
      ],
      "text/plain": [
       "     d                          \n",
       "2⋅────────({I_qQ}__(2)(L_\\perp))\n",
       "  dL_\\perp                      "
      ]
     },
     "execution_count": 10,
     "metadata": {},
     "output_type": "execute_result"
    }
   ],
   "source": [
    "IqQ2 = Function('{I^(2)_qQ}')\n",
    "LHS = 2*IqQ2(LT).diff(LT)\n",
    "LHS"
   ]
  },
  {
   "cell_type": "code",
   "execution_count": 11,
   "metadata": {
    "collapsed": false
   },
   "outputs": [
    {
     "data": {
      "text/latex": [
       "$$- {I^{(1)}_{qg}} {P^{(1)}_{gQ}} - {P^{(2)}_{qQ}}$$"
      ],
      "text/plain": [
       "-{I_qg}__(1)⋅{P_gQ}__(1) - {P_qQ}__(2)"
      ]
     },
     "execution_count": 11,
     "metadata": {},
     "output_type": "execute_result"
    }
   ],
   "source": [
    "RHS = - PqQ2-Iqg1*PgQ1\n",
    "RHS"
   ]
  },
  {
   "cell_type": "code",
   "execution_count": 12,
   "metadata": {
    "collapsed": false
   },
   "outputs": [
    {
     "data": {
      "text/latex": [
       "$$\\left [ \\frac{{P^{(1)}_{gQ}} {P^{(1)}_{qg}}}{2}, \\quad - {P^{(1)}_{gQ}} {R^{(1)}_{qg}} - {P^{(2)}_{qQ}}, \\quad {R^{(2)}_{qQ}}\\right ]$$"
      ],
      "text/plain": [
       "⎡{P_gQ}__(1)⋅{P_qg}__(1)                                                     ⎤\n",
       "⎢───────────────────────, -{P_gQ}__(1)⋅{R_qg}__(1) - {P_qQ}__(2), {R_qQ}__(2)⎥\n",
       "⎣           2                                                                ⎦"
      ]
     },
     "execution_count": 12,
     "metadata": {},
     "output_type": "execute_result"
    }
   ],
   "source": [
    "sol=dsolve(Eq(LHS, RHS.subs(Eqs)), IqQ2(LT))\n",
    "ics=solve(sol.subs(LT,0), sol.free_symbols)[0] \n",
    "finalsol = (sol.subs(ics).subs(IqQ2(0), RqQ2)).rhs\n",
    "a=Poly(finalsol.subs(LT,2*Lt), Lt)\n",
    "factor(a.coeffs())"
   ]
  }
 ],
 "metadata": {
  "kernelspec": {
   "display_name": "Python 2",
   "language": "python",
   "name": "python2"
  },
  "language_info": {
   "codemirror_mode": {
    "name": "ipython",
    "version": 2
   },
   "file_extension": ".py",
   "mimetype": "text/x-python",
   "name": "python",
   "nbconvert_exporter": "python",
   "pygments_lexer": "ipython2",
   "version": "2.7.11"
  }
 },
 "nbformat": 4,
 "nbformat_minor": 0
}
