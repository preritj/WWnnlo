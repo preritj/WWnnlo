{
 "cells": [
  {
   "cell_type": "code",
   "execution_count": 1,
   "metadata": {
    "collapsed": true
   },
   "outputs": [],
   "source": [
    "from sympy import *\n",
    "init_printing(use_latex='mathjax')"
   ]
  },
  {
   "cell_type": "code",
   "execution_count": 2,
   "metadata": {
    "collapsed": false
   },
   "outputs": [],
   "source": [
    "# Symbols\n",
    "d1, d2, d3 = symbols('d_1 d_2 d_3')\n",
    "b0, b1, b2 = symbols('beta_0 beta_1 beta_2')\n",
    "g0, g1, g2 = symbols('gamma_0 gamma_1 gamma_2')\n",
    "G0, G1, G2 = symbols('Gamma_0 Gamma_1 Gamma_2')\n",
    "Pqq1, Pqq2 = symbols('{P^(1)_qq} {P^(2)_qq}')\n",
    "Pqg1, Pqg2 = symbols('{P^(1)_qg} {P^(2)_qg}')\n",
    "Pgq1, Pgq2 = symbols('{P^(1)_gq} {P^(2)_gq}')\n",
    "Pgg1, Pgg2 = symbols('{P^(1)_gg} {P^(2)_gg}')\n",
    "Rqq1, Rqq2 = symbols('{R^(1)_qq} {R^(2)_qq}')\n",
    "Rqg1, Rqg2 = symbols('{R^(1)_qg} {R^(2)_qg}')\n",
    "Iqq1, Iqg1 = symbols('{I^(1)_qq} {I^(1)_qg}')\n",
    "PgQ1, PgQ2 = symbols('{P^(1)_gQ} {P^(2)_gQ}') \n",
    "PqQ2, RqQ2 = symbols('{P^(2)_qQ} {R^(2)_qQ}')\n",
    "J1, J2 = symbols('J_1 J_2')\n",
    "LT = symbols('L_\\perp')\n",
    "Lt = symbols('(L_\\perp/2)')"
   ]
  },
  {
   "cell_type": "code",
   "execution_count": 3,
   "metadata": {
    "collapsed": false,
    "scrolled": false
   },
   "outputs": [
    {
     "data": {
      "text/latex": [
       "$$\\left \\{ J_{1} : \\Gamma_{0} L_{\\perp} + d_{1} + 2 \\gamma_{0}, \\quad J_{2} : \\frac{\\Gamma_{0} \\beta_{0}}{2} L_{\\perp}^{2} + L_{\\perp} \\left(\\Gamma_{1} + \\beta_{0} d_{1}\\right) + d_{2} + 2 \\gamma_{1}, \\quad {I^{(1)}_{qg}} : - \\frac{L_{\\perp} {P^{(1)}_{qg}}}{2} + {R^{(1)}_{qg}}, \\quad {I^{(1)}_{qq}} : \\frac{\\Gamma_{0} L_{\\perp}^{2}}{4} - \\frac{L_{\\perp} {P^{(1)}_{qq}}}{2} + L_{\\perp} \\left(- \\frac{d_{1}}{2} - \\gamma_{0}\\right) + {R^{(1)}_{qq}}\\right \\}$$"
      ],
      "text/plain": [
       "⎧                                          2                                  \n",
       "⎪                                Γ₀⋅L_\\perp ⋅β₀                               \n",
       "⎨J₁: Γ₀⋅L_\\perp + d₁ + 2⋅γ₀, J₂: ────────────── + L_\\perp⋅(Γ₁ + β₀⋅d₁) + d₂ + \n",
       "⎪                                      2                                      \n",
       "⎩                                                                             \n",
       "\n",
       "                                                                              \n",
       "                     L_\\perp⋅{P_qg}__(1)                             Γ₀⋅L_\\per\n",
       "2⋅γ₁, {I_qg}__(1): - ─────────────────── + {R_qg}__(1), {I_qq}__(1): ─────────\n",
       "                              2                                           4   \n",
       "                                                                              \n",
       "\n",
       " 2                                                          ⎫\n",
       "p    L_\\perp⋅{P_qq}__(1)           ⎛  d₁     ⎞              ⎪\n",
       "── - ─────────────────── + L_\\perp⋅⎜- ── - γ₀⎟ + {R_qq}__(1)⎬\n",
       "              2                    ⎝  2      ⎠              ⎪\n",
       "                                                            ⎭"
      ]
     },
     "execution_count": 3,
     "metadata": {},
     "output_type": "execute_result"
    }
   ],
   "source": [
    "# Create dictionary for substitutions\n",
    "Eqs={}\n",
    "Eqs[J1]    = d1 + 2*g0 + G0*LT\n",
    "Eqs[J2]    = d2 + 2*g1 + (b0*d1 + G1)*LT + b0*G0*LT**2/2\n",
    "Eqs[Iqq1]  = -(d1/2 + g0)*LT + G0*LT**2/4 - Pqq1*LT/2 + Rqq1\n",
    "Eqs[Iqg1]  = -Pqg1*LT/2 + Rqg1\n",
    "Eqs"
   ]
  },
  {
   "cell_type": "code",
   "execution_count": 4,
   "metadata": {
    "collapsed": false
   },
   "outputs": [
    {
     "data": {
      "text/latex": [
       "$$2 \\frac{d}{d L_{\\perp}} \\operatorname{{I^{(2)}_{qq}}}{\\left (L_{\\perp} \\right )}$$"
      ],
      "text/plain": [
       "     d                          \n",
       "2⋅────────({I_qq}__(2)(L_\\perp))\n",
       "  dL_\\perp                      "
      ]
     },
     "execution_count": 4,
     "metadata": {},
     "output_type": "execute_result"
    }
   ],
   "source": [
    "Iqq2 = Function('{I^(2)_qq}')\n",
    "LHS = 2*Iqq2(LT).diff(LT)\n",
    "LHS"
   ]
  },
  {
   "cell_type": "code",
   "execution_count": 5,
   "metadata": {
    "collapsed": false
   },
   "outputs": [
    {
     "data": {
      "text/latex": [
       "$$- J_{2} - {I^{(1)}_{qg}} {P^{(1)}_{gq}} - {I^{(1)}_{qq}} {P^{(1)}_{qq}} - {I^{(1)}_{qq}} \\left(J_{1} - 2 \\beta_{0}\\right) - {P^{(2)}_{qq}}$$"
      ],
      "text/plain": [
       "-J₂ - {I_qg}__(1)⋅{P_gq}__(1) - {I_qq}__(1)⋅{P_qq}__(1) - {I_qq}__(1)⋅(J₁ - 2⋅\n",
       "β₀) - {P_qq}__(2)"
      ]
     },
     "execution_count": 5,
     "metadata": {},
     "output_type": "execute_result"
    }
   ],
   "source": [
    "RHS = - Pqq2-(J1-2*b0)*Iqq1-J2-Iqq1*Pqq1-Iqg1*Pgq1\n",
    "RHS"
   ]
  },
  {
   "cell_type": "code",
   "execution_count": 6,
   "metadata": {
    "collapsed": false
   },
   "outputs": [
    {
     "data": {
      "text/latex": [
       "$$\\left [ - \\frac{\\Gamma_{0}^{2}}{2}, \\quad \\frac{\\Gamma_{0}}{3} \\left(d_{1} + 2 \\gamma_{0} + {P^{(1)}_{qq}}\\right), \\quad - \\frac{1}{2} \\left(2 \\Gamma_{0} {R^{(1)}_{qq}} + 2 \\Gamma_{1} + 4 \\beta_{0} d_{1} + 4 \\beta_{0} \\gamma_{0} + 2 \\beta_{0} {P^{(1)}_{qq}} - d_{1}^{2} - 4 d_{1} \\gamma_{0} - 2 d_{1} {P^{(1)}_{qq}} - 4 \\gamma_{0}^{2} - 4 \\gamma_{0} {P^{(1)}_{qq}} - {P^{(1)}_{gq}} {P^{(1)}_{qg}} - {P^{(1)}_{qq}}^{2}\\right), \\quad 2 \\beta_{0} {R^{(1)}_{qq}} - d_{1} {R^{(1)}_{qq}} - d_{2} - 2 \\gamma_{0} {R^{(1)}_{qq}} - 2 \\gamma_{1} - {P^{(1)}_{gq}} {R^{(1)}_{qg}} - {P^{(1)}_{qq}} {R^{(1)}_{qq}} - {P^{(2)}_{qq}}, \\quad {R^{(2)}_{qq}}\\right ]$$"
      ],
      "text/plain": [
       "⎡   2                                  ⎛                                      \n",
       "⎢-Γ₀    Γ₀⋅(d₁ + 2⋅γ₀ + {P_qq}__(1))  -⎝2⋅Γ₀⋅{R_qq}__(1) + 2⋅Γ₁ + 4⋅β₀⋅d₁ + 4⋅\n",
       "⎢─────, ────────────────────────────, ────────────────────────────────────────\n",
       "⎣  2                 3                                                        \n",
       "\n",
       "                             2                                    2           \n",
       "β₀⋅γ₀ + 2⋅β₀⋅{P_qq}__(1) - d₁  - 4⋅d₁⋅γ₀ - 2⋅d₁⋅{P_qq}__(1) - 4⋅γ₀  - 4⋅γ₀⋅{P_\n",
       "──────────────────────────────────────────────────────────────────────────────\n",
       "                                            2                                 \n",
       "\n",
       "                                                2⎞                            \n",
       "qq}__(1) - {P_gq}__(1)⋅{P_qg}__(1) - {P_qq}__(1) ⎠                            \n",
       "───────────────────────────────────────────────────, 2⋅β₀⋅{R_qq}__(1) - d₁⋅{R_\n",
       "                                                                              \n",
       "\n",
       "                                                                              \n",
       "                                                                              \n",
       "qq}__(1) - d₂ - 2⋅γ₀⋅{R_qq}__(1) - 2⋅γ₁ - {P_gq}__(1)⋅{R_qg}__(1) - {P_qq}__(1\n",
       "                                                                              \n",
       "\n",
       "                                        ⎤\n",
       "                                        ⎥\n",
       ")⋅{R_qq}__(1) - {P_qq}__(2), {R_qq}__(2)⎥\n",
       "                                        ⎦"
      ]
     },
     "execution_count": 6,
     "metadata": {},
     "output_type": "execute_result"
    }
   ],
   "source": [
    "sol=dsolve(Eq(LHS, RHS.subs(Eqs)), Iqq2(LT))\n",
    "ics=solve(sol.subs(LT,0), sol.free_symbols)[0] \n",
    "finalsol = (sol.subs(ics).subs(Iqq2(0), Rqq2)).rhs\n",
    "a=Poly(finalsol.subs(LT,2*Lt), Lt)\n",
    "factor(a.coeffs())"
   ]
  },
  {
   "cell_type": "code",
   "execution_count": 7,
   "metadata": {
    "collapsed": false
   },
   "outputs": [
    {
     "data": {
      "text/latex": [
       "$$2 \\frac{d}{d L_{\\perp}} \\operatorname{{I^{(2)}_{qg}}}{\\left (L_{\\perp} \\right )}$$"
      ],
      "text/plain": [
       "     d                          \n",
       "2⋅────────({I_qg}__(2)(L_\\perp))\n",
       "  dL_\\perp                      "
      ]
     },
     "execution_count": 7,
     "metadata": {},
     "output_type": "execute_result"
    }
   ],
   "source": [
    "Iqg2 = Function('{I^(2)_qg}')\n",
    "LHS = 2*Iqg2(LT).diff(LT)\n",
    "LHS"
   ]
  },
  {
   "cell_type": "code",
   "execution_count": 8,
   "metadata": {
    "collapsed": false
   },
   "outputs": [
    {
     "data": {
      "text/latex": [
       "$$- {I^{(1)}_{qg}} {P^{(1)}_{gg}} - {I^{(1)}_{qg}} \\left(J_{1} - 2 \\beta_{0}\\right) - {I^{(1)}_{qq}} {P^{(1)}_{qg}} - {P^{(2)}_{qg}}$$"
      ],
      "text/plain": [
       "-{I_qg}__(1)⋅{P_gg}__(1) - {I_qg}__(1)⋅(J₁ - 2⋅β₀) - {I_qq}__(1)⋅{P_qg}__(1) -\n",
       " {P_qg}__(2)"
      ]
     },
     "execution_count": 8,
     "metadata": {},
     "output_type": "execute_result"
    }
   ],
   "source": [
    "RHS = - Pqg2-(J1-2*b0)*Iqg1-Iqq1*Pqg1-Iqg1*Pgg1\n",
    "RHS"
   ]
  },
  {
   "cell_type": "code",
   "execution_count": 9,
   "metadata": {
    "collapsed": false
   },
   "outputs": [
    {
     "data": {
      "text/latex": [
       "$$\\left [ \\frac{\\Gamma_{0} {P^{(1)}_{qg}}}{3}, \\quad - \\frac{1}{2} \\left(2 \\Gamma_{0} {R^{(1)}_{qg}} + 2 \\beta_{0} {P^{(1)}_{qg}} - 2 d_{1} {P^{(1)}_{qg}} - 4 \\gamma_{0} {P^{(1)}_{qg}} - {P^{(1)}_{gg}} {P^{(1)}_{qg}} - {P^{(1)}_{qg}} {P^{(1)}_{qq}}\\right), \\quad 2 \\beta_{0} {R^{(1)}_{qg}} - d_{1} {R^{(1)}_{qg}} - 2 \\gamma_{0} {R^{(1)}_{qg}} - {P^{(1)}_{gg}} {R^{(1)}_{qg}} - {P^{(1)}_{qg}} {R^{(1)}_{qq}} - {P^{(2)}_{qg}}, \\quad {R^{(2)}_{qg}}\\right ]$$"
      ],
      "text/plain": [
       "⎡Γ₀⋅{P_qg}__(1)  -(2⋅Γ₀⋅{R_qg}__(1) + 2⋅β₀⋅{P_qg}__(1) - 2⋅d₁⋅{P_qg}__(1) - 4⋅\n",
       "⎢──────────────, ─────────────────────────────────────────────────────────────\n",
       "⎣      3                                                                      \n",
       "\n",
       "γ₀⋅{P_qg}__(1) - {P_gg}__(1)⋅{P_qg}__(1) - {P_qg}__(1)⋅{P_qq}__(1))           \n",
       "────────────────────────────────────────────────────────────────────, 2⋅β₀⋅{R_\n",
       "   2                                                                          \n",
       "\n",
       "                                                                              \n",
       "qg}__(1) - d₁⋅{R_qg}__(1) - 2⋅γ₀⋅{R_qg}__(1) - {P_gg}__(1)⋅{R_qg}__(1) - {P_qg\n",
       "                                                                              \n",
       "\n",
       "                                             ⎤\n",
       "}__(1)⋅{R_qq}__(1) - {P_qg}__(2), {R_qg}__(2)⎥\n",
       "                                             ⎦"
      ]
     },
     "execution_count": 9,
     "metadata": {},
     "output_type": "execute_result"
    }
   ],
   "source": [
    "sol=dsolve(Eq(LHS, RHS.subs(Eqs)), Iqg2(LT))\n",
    "ics=solve(sol.subs(LT,0), sol.free_symbols)[0] \n",
    "finalsol = (sol.subs(ics).subs(Iqg2(0), Rqg2)).rhs\n",
    "a=Poly(finalsol.subs(LT,2*Lt), Lt)\n",
    "factor(a.coeffs())"
   ]
  },
  {
   "cell_type": "code",
   "execution_count": 10,
   "metadata": {
    "collapsed": false
   },
   "outputs": [
    {
     "data": {
      "text/latex": [
       "$$2 \\frac{d}{d L_{\\perp}} \\operatorname{{I^{(2)}_{qQ}}}{\\left (L_{\\perp} \\right )}$$"
      ],
      "text/plain": [
       "     d                          \n",
       "2⋅────────({I_qQ}__(2)(L_\\perp))\n",
       "  dL_\\perp                      "
      ]
     },
     "execution_count": 10,
     "metadata": {},
     "output_type": "execute_result"
    }
   ],
   "source": [
    "IqQ2 = Function('{I^(2)_qQ}')\n",
    "LHS = 2*IqQ2(LT).diff(LT)\n",
    "LHS"
   ]
  },
  {
   "cell_type": "code",
   "execution_count": 11,
   "metadata": {
    "collapsed": false
   },
   "outputs": [
    {
     "data": {
      "text/latex": [
       "$$- {I^{(1)}_{qg}} {P^{(1)}_{gQ}} - {P^{(2)}_{qQ}}$$"
      ],
      "text/plain": [
       "-{I_qg}__(1)⋅{P_gQ}__(1) - {P_qQ}__(2)"
      ]
     },
     "execution_count": 11,
     "metadata": {},
     "output_type": "execute_result"
    }
   ],
   "source": [
    "RHS = - PqQ2-Iqg1*PgQ1\n",
    "RHS"
   ]
  },
  {
   "cell_type": "code",
   "execution_count": 12,
   "metadata": {
    "collapsed": false
   },
   "outputs": [
    {
     "data": {
      "text/latex": [
       "$$\\left [ \\frac{{P^{(1)}_{gQ}} {P^{(1)}_{qg}}}{2}, \\quad - {P^{(1)}_{gQ}} {R^{(1)}_{qg}} - {P^{(2)}_{qQ}}, \\quad {R^{(2)}_{qQ}}\\right ]$$"
      ],
      "text/plain": [
       "⎡{P_gQ}__(1)⋅{P_qg}__(1)                                                     ⎤\n",
       "⎢───────────────────────, -{P_gQ}__(1)⋅{R_qg}__(1) - {P_qQ}__(2), {R_qQ}__(2)⎥\n",
       "⎣           2                                                                ⎦"
      ]
     },
     "execution_count": 12,
     "metadata": {},
     "output_type": "execute_result"
    }
   ],
   "source": [
    "sol=dsolve(Eq(LHS, RHS.subs(Eqs)), IqQ2(LT))\n",
    "ics=solve(sol.subs(LT,0), sol.free_symbols)[0] \n",
    "finalsol = (sol.subs(ics).subs(IqQ2(0), RqQ2)).rhs\n",
    "a=Poly(finalsol.subs(LT,2*Lt), Lt)\n",
    "factor(a.coeffs())"
   ]
  }
 ],
 "metadata": {
  "kernelspec": {
   "display_name": "Python 2",
   "language": "python",
   "name": "python2"
  },
  "language_info": {
   "codemirror_mode": {
    "name": "ipython",
    "version": 2
   },
   "file_extension": ".py",
   "mimetype": "text/x-python",
   "name": "python",
   "nbconvert_exporter": "python",
   "pygments_lexer": "ipython2",
   "version": "2.7.11"
  }
 },
 "nbformat": 4,
 "nbformat_minor": 0
}
